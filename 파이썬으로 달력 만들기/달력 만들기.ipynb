{
 "cells": [
  {
   "cell_type": "markdown",
   "id": "d5df14fc-37eb-47fb-b5d5-93ef8ede70b2",
   "metadata": {},
   "source": [
    "# 파이썬으로 달력 만들기\n",
    "\n",
    "## 프로젝트 개요\n",
    "\n",
    "### 달력 만들기에 필요한 요소들\n",
    "- 윤년 확인 - calendar.isleap\n",
    "- 지나온 날짜 계산 - dateutill\n",
    "- 마지막 날짜 계산 - strptime\n",
    "- 요일 반환 - datetime"
   ]
  },
  {
   "cell_type": "markdown",
   "id": "58bd97f2-6105-43bf-8afa-929fbbdc6ad6",
   "metadata": {},
   "source": [
    "### 날짜 및 요일 계산\n",
    "> ### datetime\n",
    "> - 날짜와 시간 데이터를 처리하는 파이썬 내장 라이브러리\n",
    "> - 현재 시간에 대한 정보를 가져와 원하는 형식으로 지정하여 사용할 수 있다\n",
    "> - timedelta 객체를 활용해서 날짜/시간 연산이 가능하게 함"
   ]
  },
  {
   "cell_type": "markdown",
   "id": "ef63d5f5-1669-41e4-922a-7107dcbbe809",
   "metadata": {},
   "source": [
    "날짜표현 - datatime.date"
   ]
  },
  {
   "cell_type": "code",
   "execution_count": 1,
   "id": "0aa8a59e-6718-4d1d-a0f4-e8a86ec6d005",
   "metadata": {},
   "outputs": [],
   "source": [
    "import datetime\n",
    "day1 = datetime.date(2022, 10, 15)"
   ]
  },
  {
   "cell_type": "code",
   "execution_count": 12,
   "id": "7d083d65-21cb-49d1-993f-449e4e181e33",
   "metadata": {},
   "outputs": [
    {
     "data": {
      "text/plain": [
       "datetime.date(2022, 10, 15)"
      ]
     },
     "execution_count": 12,
     "metadata": {},
     "output_type": "execute_result"
    }
   ],
   "source": [
    "day1"
   ]
  },
  {
   "cell_type": "markdown",
   "id": "a4ab991f",
   "metadata": {},
   "source": [
    "날짜/시간 표현 - datetime.datetime"
   ]
  },
  {
   "cell_type": "code",
   "execution_count": 3,
   "id": "97379355-a326-4b93-a2ce-8cf2ed17a786",
   "metadata": {},
   "outputs": [],
   "source": [
    "day2 = datetime.datetime(2022, 10, 15, 16, 10, 30) # 마지막 3개는 시, 분, 초"
   ]
  },
  {
   "cell_type": "code",
   "execution_count": 4,
   "id": "3d2935ef-91a6-4ddb-949f-af7f908850c9",
   "metadata": {},
   "outputs": [
    {
     "data": {
      "text/plain": [
       "datetime.datetime(2022, 10, 15, 16, 10, 30)"
      ]
     },
     "execution_count": 4,
     "metadata": {},
     "output_type": "execute_result"
    }
   ],
   "source": [
    "day2"
   ]
  },
  {
   "cell_type": "code",
   "execution_count": 5,
   "id": "a6887ca4-0431-4d39-b625-e8ab15a98e9d",
   "metadata": {},
   "outputs": [
    {
     "data": {
      "text/plain": [
       "2022"
      ]
     },
     "execution_count": 5,
     "metadata": {},
     "output_type": "execute_result"
    }
   ],
   "source": [
    "day2.year # 연도"
   ]
  },
  {
   "cell_type": "code",
   "execution_count": 6,
   "id": "046f5020-9b88-4702-9a53-d8f72e777b97",
   "metadata": {},
   "outputs": [
    {
     "data": {
      "text/plain": [
       "10"
      ]
     },
     "execution_count": 6,
     "metadata": {},
     "output_type": "execute_result"
    }
   ],
   "source": [
    "day2.month # 달"
   ]
  },
  {
   "cell_type": "code",
   "execution_count": 7,
   "id": "603b1e0b-9fd5-43b2-bff3-113114ffdfa7",
   "metadata": {},
   "outputs": [
    {
     "data": {
      "text/plain": [
       "15"
      ]
     },
     "execution_count": 7,
     "metadata": {},
     "output_type": "execute_result"
    }
   ],
   "source": [
    "day2.day # 날짜"
   ]
  },
  {
   "cell_type": "code",
   "execution_count": 8,
   "id": "659e7f9d-7e67-461d-afc9-a0d9c2eb7c4f",
   "metadata": {},
   "outputs": [
    {
     "data": {
      "text/plain": [
       "16"
      ]
     },
     "execution_count": 8,
     "metadata": {},
     "output_type": "execute_result"
    }
   ],
   "source": [
    "day2.hour # 시간"
   ]
  },
  {
   "cell_type": "code",
   "execution_count": 9,
   "id": "dbb9c59b-667b-4ce1-b1c1-0ec221ca7019",
   "metadata": {},
   "outputs": [
    {
     "data": {
      "text/plain": [
       "10"
      ]
     },
     "execution_count": 9,
     "metadata": {},
     "output_type": "execute_result"
    }
   ],
   "source": [
    "day2.minute # 분"
   ]
  },
  {
   "cell_type": "code",
   "execution_count": 10,
   "id": "75caffd6-bfd5-42b3-bd92-c103c7a28c45",
   "metadata": {},
   "outputs": [
    {
     "data": {
      "text/plain": [
       "30"
      ]
     },
     "execution_count": 10,
     "metadata": {},
     "output_type": "execute_result"
    }
   ],
   "source": [
    "day2.second # 초"
   ]
  },
  {
   "cell_type": "markdown",
   "id": "6236c47e-a708-4aaa-b12b-af43b6ab8cc6",
   "metadata": {},
   "source": [
    "날짜/시간 합치기 - combine"
   ]
  },
  {
   "cell_type": "code",
   "execution_count": 13,
   "id": "44dfa836",
   "metadata": {},
   "outputs": [],
   "source": [
    "day = datetime.date(2022, 10, 15)\n",
    "time = datetime.time(16, 10, 30)"
   ]
  },
  {
   "cell_type": "code",
   "execution_count": 14,
   "id": "68f0e821",
   "metadata": {},
   "outputs": [],
   "source": [
    "dt = datetime.datetime.combine(day, time)"
   ]
  },
  {
   "cell_type": "code",
   "execution_count": 24,
   "id": "5057d376",
   "metadata": {},
   "outputs": [
    {
     "data": {
      "text/plain": [
       "datetime.datetime(2022, 10, 15, 16, 10, 30)"
      ]
     },
     "execution_count": 24,
     "metadata": {},
     "output_type": "execute_result"
    }
   ],
   "source": [
    "dt"
   ]
  },
  {
   "cell_type": "markdown",
   "id": "d6b7e786",
   "metadata": {},
   "source": [
    "현재 날짜/시간 - today.now"
   ]
  },
  {
   "cell_type": "code",
   "execution_count": 26,
   "id": "08babf00",
   "metadata": {},
   "outputs": [
    {
     "data": {
      "text/plain": [
       "datetime.date(2024, 9, 15)"
      ]
     },
     "execution_count": 26,
     "metadata": {},
     "output_type": "execute_result"
    }
   ],
   "source": [
    "datetime.date.today()"
   ]
  },
  {
   "cell_type": "code",
   "execution_count": 27,
   "id": "a6f48ff2",
   "metadata": {},
   "outputs": [
    {
     "data": {
      "text/plain": [
       "datetime.datetime(2024, 9, 15, 16, 26, 6, 129869)"
      ]
     },
     "execution_count": 27,
     "metadata": {},
     "output_type": "execute_result"
    }
   ],
   "source": [
    "datetime.datetime.now()"
   ]
  },
  {
   "cell_type": "markdown",
   "id": "fcbe860d",
   "metadata": {},
   "source": [
    "날짜 계산 - timedelta"
   ]
  },
  {
   "cell_type": "code",
   "execution_count": 16,
   "id": "0e790c14",
   "metadata": {},
   "outputs": [],
   "source": [
    "day1 = datetime.date(2022, 10, 15)\n",
    "day2 = datetime.date(2022, 11, 10)"
   ]
  },
  {
   "cell_type": "code",
   "execution_count": 17,
   "id": "9ce8e323",
   "metadata": {},
   "outputs": [],
   "source": [
    "# 날짜 뺼셈\n",
    "diff = day2 - day1"
   ]
  },
  {
   "cell_type": "code",
   "execution_count": 18,
   "id": "a25286f6",
   "metadata": {},
   "outputs": [
    {
     "data": {
      "text/plain": [
       "datetime.timedelta(days=26)"
      ]
     },
     "execution_count": 18,
     "metadata": {},
     "output_type": "execute_result"
    }
   ],
   "source": [
    "diff"
   ]
  },
  {
   "cell_type": "code",
   "execution_count": 20,
   "id": "ecd0b147",
   "metadata": {},
   "outputs": [],
   "source": [
    "# 날짜 덧셈\n",
    "plus = datetime.timedelta(days=100)"
   ]
  },
  {
   "cell_type": "code",
   "execution_count": 21,
   "id": "5a966291",
   "metadata": {},
   "outputs": [],
   "source": [
    "add = day1 + plus"
   ]
  },
  {
   "cell_type": "code",
   "execution_count": 22,
   "id": "bcd5e369",
   "metadata": {},
   "outputs": [
    {
     "data": {
      "text/plain": [
       "datetime.date(2023, 1, 23)"
      ]
     },
     "execution_count": 22,
     "metadata": {},
     "output_type": "execute_result"
    }
   ],
   "source": [
    "add"
   ]
  },
  {
   "cell_type": "markdown",
   "id": "a91eed59",
   "metadata": {},
   "source": [
    "요일 판별 - weekday\n",
    "- 월요일(0), 화요일(1), 수요일(2), 목요일(3), 금요일(4), 토요일(5), 일요일(6)"
   ]
  },
  {
   "cell_type": "code",
   "execution_count": 32,
   "id": "82f1abd8",
   "metadata": {},
   "outputs": [],
   "source": [
    "day1 = datetime.date(2022, 10, 15)\n",
    "day2 = datetime.date(2022, 11, 10)\n",
    "day3 = datetime.date.today()"
   ]
  },
  {
   "cell_type": "code",
   "execution_count": 33,
   "id": "99b58306",
   "metadata": {},
   "outputs": [
    {
     "data": {
      "text/plain": [
       "5"
      ]
     },
     "execution_count": 33,
     "metadata": {},
     "output_type": "execute_result"
    }
   ],
   "source": [
    "day1.weekday()"
   ]
  },
  {
   "cell_type": "code",
   "execution_count": 34,
   "id": "216cfc6e",
   "metadata": {},
   "outputs": [
    {
     "data": {
      "text/plain": [
       "3"
      ]
     },
     "execution_count": 34,
     "metadata": {},
     "output_type": "execute_result"
    }
   ],
   "source": [
    "day2.weekday()"
   ]
  },
  {
   "cell_type": "code",
   "execution_count": 36,
   "id": "03c3ddf2",
   "metadata": {},
   "outputs": [
    {
     "data": {
      "text/plain": [
       "6"
      ]
     },
     "execution_count": 36,
     "metadata": {},
     "output_type": "execute_result"
    }
   ],
   "source": [
    "day3.weekday()"
   ]
  },
  {
   "cell_type": "markdown",
   "id": "082799a0",
   "metadata": {},
   "source": [
    "### 윤년 확인\n"
   ]
  },
  {
   "cell_type": "markdown",
   "id": "86db4929",
   "metadata": {},
   "source": [
    "> - 4년마다 돌아오는 2월이 29일까지인 해"
   ]
  },
  {
   "cell_type": "code",
   "execution_count": 41,
   "id": "da91f827",
   "metadata": {},
   "outputs": [],
   "source": [
    "def isLeapYear(year):\n",
    "    return year % 4 == 0 and year % 100 != 0 or year % 400 == 0"
   ]
  },
  {
   "cell_type": "code",
   "execution_count": 42,
   "id": "496a50bb",
   "metadata": {},
   "outputs": [
    {
     "data": {
      "text/plain": [
       "True"
      ]
     },
     "execution_count": 42,
     "metadata": {},
     "output_type": "execute_result"
    }
   ],
   "source": [
    "isLeapYear(2024)"
   ]
  },
  {
   "cell_type": "code",
   "execution_count": 43,
   "id": "72270905",
   "metadata": {},
   "outputs": [
    {
     "data": {
      "text/plain": [
       "False"
      ]
     },
     "execution_count": 43,
     "metadata": {},
     "output_type": "execute_result"
    }
   ],
   "source": [
    "isLeapYear(2022)"
   ]
  },
  {
   "cell_type": "markdown",
   "id": "b1ccf545",
   "metadata": {},
   "source": [
    "달력 관련 라이브러리 - calendar"
   ]
  },
  {
   "cell_type": "code",
   "execution_count": 44,
   "id": "70ccc9ee",
   "metadata": {},
   "outputs": [],
   "source": [
    "import calendar"
   ]
  },
  {
   "cell_type": "code",
   "execution_count": 45,
   "id": "56b1df18",
   "metadata": {},
   "outputs": [
    {
     "data": {
      "text/plain": [
       "True"
      ]
     },
     "execution_count": 45,
     "metadata": {},
     "output_type": "execute_result"
    }
   ],
   "source": [
    "calendar.isleap(2024)"
   ]
  },
  {
   "cell_type": "code",
   "execution_count": 46,
   "id": "174d2460",
   "metadata": {},
   "outputs": [
    {
     "data": {
      "text/plain": [
       "False"
      ]
     },
     "execution_count": 46,
     "metadata": {},
     "output_type": "execute_result"
    }
   ],
   "source": [
    "calendar.isleap(2022)"
   ]
  },
  {
   "cell_type": "code",
   "execution_count": 48,
   "id": "a0e5f16a",
   "metadata": {},
   "outputs": [
    {
     "data": {
      "text/plain": [
       "8"
      ]
     },
     "execution_count": 48,
     "metadata": {},
     "output_type": "execute_result"
    }
   ],
   "source": [
    "# 윤년 횟수\n",
    "calendar.leapdays(1990, 2024)"
   ]
  },
  {
   "cell_type": "code",
   "execution_count": 50,
   "id": "bc5aec5e",
   "metadata": {},
   "outputs": [
    {
     "data": {
      "text/plain": [
       "5"
      ]
     },
     "execution_count": 50,
     "metadata": {},
     "output_type": "execute_result"
    }
   ],
   "source": [
    "# 요일 변환\n",
    "calendar.weekday(2022, 10, 15)"
   ]
  },
  {
   "cell_type": "code",
   "execution_count": 53,
   "id": "daf1e064",
   "metadata": {},
   "outputs": [
    {
     "name": "stdout",
     "output_type": "stream",
     "text": [
      "                                  2024\n",
      "\n",
      "      January                   February                   March\n",
      "Mo Tu We Th Fr Sa Su      Mo Tu We Th Fr Sa Su      Mo Tu We Th Fr Sa Su\n",
      " 1  2  3  4  5  6  7                1  2  3  4                   1  2  3\n",
      " 8  9 10 11 12 13 14       5  6  7  8  9 10 11       4  5  6  7  8  9 10\n",
      "15 16 17 18 19 20 21      12 13 14 15 16 17 18      11 12 13 14 15 16 17\n",
      "22 23 24 25 26 27 28      19 20 21 22 23 24 25      18 19 20 21 22 23 24\n",
      "29 30 31                  26 27 28 29               25 26 27 28 29 30 31\n",
      "\n",
      "       April                      May                       June\n",
      "Mo Tu We Th Fr Sa Su      Mo Tu We Th Fr Sa Su      Mo Tu We Th Fr Sa Su\n",
      " 1  2  3  4  5  6  7             1  2  3  4  5                      1  2\n",
      " 8  9 10 11 12 13 14       6  7  8  9 10 11 12       3  4  5  6  7  8  9\n",
      "15 16 17 18 19 20 21      13 14 15 16 17 18 19      10 11 12 13 14 15 16\n",
      "22 23 24 25 26 27 28      20 21 22 23 24 25 26      17 18 19 20 21 22 23\n",
      "29 30                     27 28 29 30 31            24 25 26 27 28 29 30\n",
      "\n",
      "        July                     August                  September\n",
      "Mo Tu We Th Fr Sa Su      Mo Tu We Th Fr Sa Su      Mo Tu We Th Fr Sa Su\n",
      " 1  2  3  4  5  6  7                1  2  3  4                         1\n",
      " 8  9 10 11 12 13 14       5  6  7  8  9 10 11       2  3  4  5  6  7  8\n",
      "15 16 17 18 19 20 21      12 13 14 15 16 17 18       9 10 11 12 13 14 15\n",
      "22 23 24 25 26 27 28      19 20 21 22 23 24 25      16 17 18 19 20 21 22\n",
      "29 30 31                  26 27 28 29 30 31         23 24 25 26 27 28 29\n",
      "                                                    30\n",
      "\n",
      "      October                   November                  December\n",
      "Mo Tu We Th Fr Sa Su      Mo Tu We Th Fr Sa Su      Mo Tu We Th Fr Sa Su\n",
      "    1  2  3  4  5  6                   1  2  3                         1\n",
      " 7  8  9 10 11 12 13       4  5  6  7  8  9 10       2  3  4  5  6  7  8\n",
      "14 15 16 17 18 19 20      11 12 13 14 15 16 17       9 10 11 12 13 14 15\n",
      "21 22 23 24 25 26 27      18 19 20 21 22 23 24      16 17 18 19 20 21 22\n",
      "28 29 30 31               25 26 27 28 29 30         23 24 25 26 27 28 29\n",
      "                                                    30 31\n",
      "\n"
     ]
    }
   ],
   "source": [
    "# 달력 출력\n",
    "print(calendar.calendar(2024))"
   ]
  },
  {
   "cell_type": "markdown",
   "id": "4425dc30",
   "metadata": {},
   "source": [
    "### 날짜 출력"
   ]
  },
  {
   "cell_type": "markdown",
   "id": "2f716686",
   "metadata": {},
   "source": [
    "> strptime, strftime\n",
    "> - strptime - 날짜 형식 문자열을 datetime 객체로 변환\n",
    "> - strftime - 날짜와 시간(datetime) 을 문자열로 출력"
   ]
  },
  {
   "cell_type": "markdown",
   "id": "4e116f97",
   "metadata": {},
   "source": [
    "strptime\n",
    "- 연(%Y), 월(%m), 일(%d), 시(%H), 분(%M), 초(-S) "
   ]
  },
  {
   "cell_type": "code",
   "execution_count": 54,
   "id": "ebf0e5d3",
   "metadata": {},
   "outputs": [],
   "source": [
    "import datetime"
   ]
  },
  {
   "cell_type": "code",
   "execution_count": 56,
   "id": "e1ebacd9",
   "metadata": {},
   "outputs": [],
   "source": [
    "str_datetime = '2024-09-15 16:44:30' # 날짜 형식 문자열\n",
    "currdate = datetime.datetime.strptime(str_datetime, '%Y-%m-%d %H:%M:%S')"
   ]
  },
  {
   "cell_type": "code",
   "execution_count": 57,
   "id": "28129c50",
   "metadata": {},
   "outputs": [
    {
     "data": {
      "text/plain": [
       "datetime.datetime"
      ]
     },
     "execution_count": 57,
     "metadata": {},
     "output_type": "execute_result"
    }
   ],
   "source": [
    "type(currdate)"
   ]
  },
  {
   "cell_type": "code",
   "execution_count": 58,
   "id": "3cf12416",
   "metadata": {},
   "outputs": [
    {
     "data": {
      "text/plain": [
       "datetime.datetime(2024, 9, 15, 16, 44, 30)"
      ]
     },
     "execution_count": 58,
     "metadata": {},
     "output_type": "execute_result"
    }
   ],
   "source": [
    "currdate"
   ]
  },
  {
   "cell_type": "markdown",
   "id": "2547608f",
   "metadata": {},
   "source": [
    "strftime"
   ]
  },
  {
   "cell_type": "code",
   "execution_count": 59,
   "id": "cfda8aeb",
   "metadata": {},
   "outputs": [],
   "source": [
    "import datetime\n",
    "now = datetime.datetime.now()"
   ]
  },
  {
   "cell_type": "code",
   "execution_count": 60,
   "id": "a0b87233",
   "metadata": {},
   "outputs": [
    {
     "data": {
      "text/plain": [
       "datetime.datetime(2024, 9, 15, 16, 48, 3, 260589)"
      ]
     },
     "execution_count": 60,
     "metadata": {},
     "output_type": "execute_result"
    }
   ],
   "source": [
    "now"
   ]
  },
  {
   "cell_type": "code",
   "execution_count": 62,
   "id": "808bef46",
   "metadata": {},
   "outputs": [],
   "source": [
    "date = now.strftime('%Y-%m-%d')"
   ]
  },
  {
   "cell_type": "code",
   "execution_count": 63,
   "id": "5a79e6cf",
   "metadata": {},
   "outputs": [
    {
     "data": {
      "text/plain": [
       "'2024-09-15'"
      ]
     },
     "execution_count": 63,
     "metadata": {},
     "output_type": "execute_result"
    }
   ],
   "source": [
    "date"
   ]
  },
  {
   "cell_type": "code",
   "execution_count": 64,
   "id": "b4564fac",
   "metadata": {},
   "outputs": [],
   "source": [
    "time = now.strftime('%H:%M:%S')"
   ]
  },
  {
   "cell_type": "code",
   "execution_count": 65,
   "id": "04797078",
   "metadata": {},
   "outputs": [
    {
     "data": {
      "text/plain": [
       "'16:48:03'"
      ]
     },
     "execution_count": 65,
     "metadata": {},
     "output_type": "execute_result"
    }
   ],
   "source": [
    "time"
   ]
  },
  {
   "cell_type": "code",
   "execution_count": 66,
   "id": "aea732ee",
   "metadata": {},
   "outputs": [],
   "source": [
    "datetime = now.strftime('%Y-%m-%d %H:%M:%S')"
   ]
  },
  {
   "cell_type": "code",
   "execution_count": 68,
   "id": "7aa791e6",
   "metadata": {},
   "outputs": [
    {
     "data": {
      "text/plain": [
       "'2024-09-15 16:48:03'"
      ]
     },
     "execution_count": 68,
     "metadata": {},
     "output_type": "execute_result"
    }
   ],
   "source": [
    "datetime"
   ]
  },
  {
   "cell_type": "markdown",
   "id": "2f29a4b5",
   "metadata": {},
   "source": [
    "### 그 외 시간 관련 라이브러리"
   ]
  },
  {
   "cell_type": "markdown",
   "id": "75ef993a",
   "metadata": {},
   "source": [
    "> dateutil\n",
    "> - parse 함수를 통해 자동으로 날짜 형식을 찾아서 datetime 객체로 변환함"
   ]
  },
  {
   "cell_type": "code",
   "execution_count": 69,
   "id": "940b05a2",
   "metadata": {},
   "outputs": [],
   "source": [
    "import datetime"
   ]
  },
  {
   "cell_type": "code",
   "execution_count": 70,
   "id": "e9f0ffd6",
   "metadata": {},
   "outputs": [
    {
     "data": {
      "text/plain": [
       "datetime.datetime(2024, 9, 15, 0, 0)"
      ]
     },
     "execution_count": 70,
     "metadata": {},
     "output_type": "execute_result"
    }
   ],
   "source": [
    "# strptime 활용\n",
    "date = '2024-09-15'\n",
    "date_parsed = datetime.datetime.strptime(date, '%Y-%m-%d')\n",
    "date_parsed"
   ]
  },
  {
   "cell_type": "code",
   "execution_count": 71,
   "id": "b379dc66",
   "metadata": {},
   "outputs": [],
   "source": [
    "from dateutil.parser import parse"
   ]
  },
  {
   "cell_type": "code",
   "execution_count": 73,
   "id": "0d2d3667",
   "metadata": {},
   "outputs": [
    {
     "data": {
      "text/plain": [
       "datetime.datetime(2024, 9, 15, 0, 0)"
      ]
     },
     "execution_count": 73,
     "metadata": {},
     "output_type": "execute_result"
    }
   ],
   "source": [
    "# dateutil 활용\n",
    "parse(date)"
   ]
  },
  {
   "cell_type": "code",
   "execution_count": 81,
   "id": "95683f80",
   "metadata": {},
   "outputs": [
    {
     "data": {
      "text/plain": [
       "datetime.datetime(2024, 9, 15, 16, 55, 56)"
      ]
     },
     "execution_count": 81,
     "metadata": {},
     "output_type": "execute_result"
    }
   ],
   "source": [
    "# 자동 형식 탐지\n",
    "parse(\"Sep 15, 2024 4:55:56 PM\")"
   ]
  },
  {
   "cell_type": "code",
   "execution_count": 82,
   "id": "14d07d02",
   "metadata": {},
   "outputs": [],
   "source": [
    "# 날짜 문자열 자동 탐지\n",
    "log = 'INFO 2024-01-01T00:00:01 Happy new year. Tommy.'"
   ]
  },
  {
   "cell_type": "code",
   "execution_count": 83,
   "id": "571f2c75",
   "metadata": {},
   "outputs": [
    {
     "data": {
      "text/plain": [
       "datetime.datetime(2024, 1, 1, 0, 0, 1)"
      ]
     },
     "execution_count": 83,
     "metadata": {},
     "output_type": "execute_result"
    }
   ],
   "source": [
    "parse(log, fuzzy=True) # fuzzy => 정형화된 양식이 아니라 문장인 곳에서 날짜를 추출 할 떄 사용"
   ]
  },
  {
   "cell_type": "markdown",
   "id": "678bd192",
   "metadata": {},
   "source": [
    "> time\n",
    "> - datetime 라이브러리와 같이 파이썬에서 시간과 날짜를 다루기 위한 내장 라이브러리\n",
    "> - 프로그램 실행 경과 시간, 프로그램 대기 시간 등을 만들 때 주로 사용"
   ]
  },
  {
   "cell_type": "code",
   "execution_count": 84,
   "id": "4601b64d",
   "metadata": {},
   "outputs": [],
   "source": [
    "import time"
   ]
  },
  {
   "cell_type": "code",
   "execution_count": 85,
   "id": "3e0f6d58",
   "metadata": {},
   "outputs": [
    {
     "data": {
      "text/plain": [
       "1726388248.0872393"
      ]
     },
     "execution_count": 85,
     "metadata": {},
     "output_type": "execute_result"
    }
   ],
   "source": [
    "# 현재 시간 출력 [실수형] = 시스템 시간\n",
    "time.time()"
   ]
  },
  {
   "cell_type": "code",
   "execution_count": 86,
   "id": "cc62b4c6",
   "metadata": {},
   "outputs": [
    {
     "data": {
      "text/plain": [
       "'Sun Sep 15 17:17:42 2024'"
      ]
     },
     "execution_count": 86,
     "metadata": {},
     "output_type": "execute_result"
    }
   ],
   "source": [
    "# 현재 시간 출력 [문자형]\n",
    "time.ctime()"
   ]
  },
  {
   "cell_type": "code",
   "execution_count": 87,
   "id": "db0b139e",
   "metadata": {},
   "outputs": [
    {
     "name": "stdout",
     "output_type": "stream",
     "text": [
      "바로 출력 되는 구문\n",
      "3초후 출력 되는 구문\n"
     ]
    }
   ],
   "source": [
    "# 대기 시간 생성\n",
    "print('바로 출력 되는 구문')\n",
    "\n",
    "time.sleep(3)\n",
    "\n",
    "print('3초후 출력 되는 구문')"
   ]
  },
  {
   "cell_type": "code",
   "execution_count": 89,
   "id": "03ffa826",
   "metadata": {},
   "outputs": [
    {
     "name": "stdout",
     "output_type": "stream",
     "text": [
      "반복 횟수: 1\n",
      "반복 횟수: 2\n",
      "반복 횟수: 3\n",
      "반복 횟수: 4\n",
      "반복 횟수: 5\n",
      "경과 시간: 5.003479242324829 초 입니다\n"
     ]
    }
   ],
   "source": [
    "# 경과 시간 출력\n",
    "start_time = time.time()\n",
    "\n",
    "for i in range(5):\n",
    "    time.sleep(1) # 1초간 대기\n",
    "    print('반복 횟수:', i+1)\n",
    "\n",
    "end_time = time.time()\n",
    "elapsed_time = end_time - start_time\n",
    "\n",
    "print('경과 시간: {} 초 입니다'.format(elapsed_time))"
   ]
  },
  {
   "cell_type": "markdown",
   "id": "684fd11d",
   "metadata": {},
   "source": [
    "### 달력 프로젝트"
   ]
  },
  {
   "cell_type": "markdown",
   "id": "fa73a269",
   "metadata": {},
   "source": [
    "> ### 진행순서\n",
    "> 1. 윤년 판별 함수\n",
    "> 2. 마지막 날짜 계산\n",
    "> 3. 지나온 날짜 계산\n",
    "> 4. 요일 반환\n",
    "> 5. 달력 확인"
   ]
  },
  {
   "cell_type": "markdown",
   "id": "180a482a",
   "metadata": {},
   "source": [
    "### 1. 윤년 판별 함수"
   ]
  },
  {
   "cell_type": "markdown",
   "id": "ae2d7b03",
   "metadata": {},
   "source": [
    "방법1. 윤년 판별 공식에 따라 작동하는 함수 만들기"
   ]
  },
  {
   "cell_type": "code",
   "execution_count": 90,
   "id": "7401ed8d",
   "metadata": {},
   "outputs": [],
   "source": [
    "def isLeapYear(year): # 윤년이면 True, 아니면 False 를 출력하는 함수\n",
    "    return year % 4 == 0 and year % 100 !=0 or year % 400 == 0"
   ]
  },
  {
   "cell_type": "code",
   "execution_count": 91,
   "id": "d33a330c",
   "metadata": {},
   "outputs": [
    {
     "data": {
      "text/plain": [
       "True"
      ]
     },
     "execution_count": 91,
     "metadata": {},
     "output_type": "execute_result"
    }
   ],
   "source": [
    "isLeapYear(2020)"
   ]
  },
  {
   "cell_type": "code",
   "execution_count": 96,
   "id": "be4abe31",
   "metadata": {},
   "outputs": [
    {
     "data": {
      "text/plain": [
       "False"
      ]
     },
     "execution_count": 96,
     "metadata": {},
     "output_type": "execute_result"
    }
   ],
   "source": [
    "isLeapYear(2022)"
   ]
  },
  {
   "cell_type": "markdown",
   "id": "ad5932c3",
   "metadata": {},
   "source": [
    "방법2. calendar 모듈 활용하기"
   ]
  },
  {
   "cell_type": "code",
   "execution_count": 93,
   "id": "eca2decf",
   "metadata": {},
   "outputs": [
    {
     "data": {
      "text/plain": [
       "True"
      ]
     },
     "execution_count": 93,
     "metadata": {},
     "output_type": "execute_result"
    }
   ],
   "source": [
    "import calendar\n",
    "calendar.isleap(2020)"
   ]
  },
  {
   "cell_type": "code",
   "execution_count": 97,
   "id": "de18bc06",
   "metadata": {},
   "outputs": [
    {
     "data": {
      "text/plain": [
       "False"
      ]
     },
     "execution_count": 97,
     "metadata": {},
     "output_type": "execute_result"
    }
   ],
   "source": [
    "calendar.isleap(2022)"
   ]
  },
  {
   "cell_type": "markdown",
   "id": "a8feaef6",
   "metadata": {},
   "source": [
    "### 2. 마지막 날짜 계산"
   ]
  },
  {
   "cell_type": "markdown",
   "id": "00b5d8d7",
   "metadata": {},
   "source": [
    "> - lastDay 인수로 년, 월을 넘겨받아 그 달의 마지막 날짜를 리턴하는 함수"
   ]
  },
  {
   "cell_type": "code",
   "execution_count": 99,
   "id": "aa9835cc",
   "metadata": {},
   "outputs": [],
   "source": [
    "def lastDay(year, month):\n",
    "    # 각 달의 마지막 날짜를 기억하는 리스트\n",
    "    m = [31, 28, 31, 30, 31, 30, 31, 31, 30, 31, 30, 31]\n",
    "\n",
    "    # 2월 마지막 날짜를 확정 => 윤년이면 29일로 수정\n",
    "    if isLeapYear(year):\n",
    "        m[1] = 29\n",
    "    \n",
    "    return m[month - 1] # 마지막 날짜 리턴"
   ]
  },
  {
   "cell_type": "markdown",
   "id": "afc1b24a",
   "metadata": {},
   "source": [
    "### 3. 지나온 날짜 계산"
   ]
  },
  {
   "cell_type": "markdown",
   "id": "3ca87670",
   "metadata": {},
   "source": [
    "> - totalDay 년, 월, 일을 넘겨받아 1년 1월 1일 부터 지난 날짜의 합계를 리턴하는 함수\n",
    "> - total 계산 순서\n",
    ">   1. 평년을 기준으로 전년도까지 일자 합계 -> 윤년이었던 회수 더하기\n",
    ">   2. 전달까지 해당 연도 일자 더하기\n",
    ">   3. 이번달 날짜 더하기"
   ]
  },
  {
   "cell_type": "code",
   "execution_count": 100,
   "id": "402f2e44",
   "metadata": {},
   "outputs": [],
   "source": [
    "def totalDay(year, month, day):\n",
    "    # 1년 1월 1일부터 전 년도 12월 31일 까지 지난 날짜를 합산\n",
    "    total = (year - 1) * 365 + (year -1) // 4 - (year - 1) // 100 + (year -1) // 400 # 윤년 카운트\n",
    "\n",
    "    # 전년도까지 지난 날짜의 합계에 전 달까지 지난 날짜 더하기\n",
    "    for i in range(1, month):\n",
    "        total += lastDay(year, i) # 윤년 확인 포함\n",
    "\n",
    "    return total + day # 전달까지 지난 날짜에 이번달 날짜를 더해서 리턴"
   ]
  },
  {
   "cell_type": "markdown",
   "id": "35a309c6",
   "metadata": {},
   "source": [
    "### 4. 요일 반환"
   ]
  },
  {
   "cell_type": "markdown",
   "id": "304ec146",
   "metadata": {},
   "source": [
    "> - weekDay 인수로 년, 월, 일을 넘겨받아 요일을 계산해 숫자로 리턴하는 함수\n",
    "> - 1년 1월 1일 부터 인수로 넘겨받은 년, 월, 일 까지 지난 날짜의 합계를 7로 나눈 나머지 반환\n",
    "> - 일요일(0), 월요일(1), 화요일(2), 수요일(3), 목요일(4), 금요일(5), 토요일(6)"
   ]
  },
  {
   "cell_type": "code",
   "execution_count": 101,
   "id": "256d7e2f",
   "metadata": {},
   "outputs": [],
   "source": [
    "def weekDay(year, month, day):\n",
    "    return totalDay(year, month, day) % 7"
   ]
  },
  {
   "cell_type": "markdown",
   "id": "588025ae",
   "metadata": {},
   "source": [
    "### 5. 달력 확인"
   ]
  },
  {
   "cell_type": "code",
   "execution_count": 110,
   "id": "b9f040d4",
   "metadata": {},
   "outputs": [
    {
     "name": "stdout",
     "output_type": "stream",
     "text": [
      "============================\n",
      "         2024년  9월\n",
      "============================\n",
      " 일  월  화  수  목  금  토  \n",
      "============================\n",
      "  1   2   3   4   5   6   7 \n",
      "  8   9  10  11  12  13  14 \n",
      " 15  16  17  18  19  20  21 \n",
      " 22  23  24  25  26  27  28 \n",
      " 29  30 \n",
      "============================\n"
     ]
    }
   ],
   "source": [
    "if __name__ == '__main__':\n",
    "    # 달력 프로그램 도입부\n",
    "    year, month = map(int, input('달력을 출력할 년, 월을 입력하세요: ').split())\n",
    "    print('=' * 28)\n",
    "    print('         {0:4d}년 {1:2d}월'.format(year, month))\n",
    "    print('=' * 28)\n",
    "    print(' 일  월  화  수  목  금  토  ')\n",
    "    print('=' * 28)\n",
    "\n",
    "    # 1일이 출력될 요일의 위치를 맞추기 위해서 1일의 요일만큼 반복하며 빈칸을 출력\n",
    "    for i in range(weekDay(year, month, 1)):\n",
    "        print('    ', end='')\n",
    "    \n",
    "    # 1일부터 달력을 출력할 달의 마지막 날짜까지 반복하며 달력을 출력\n",
    "    for i in range(1, lastDay(year, month) + 1):\n",
    "        print(' {0:2d} '.format(i), end = '')\n",
    "\n",
    "        # 출력한 날짜(i)가 토요일이고 그 달의 마지막 날짜가 아니면 줄바꿈\n",
    "        if weekDay(year, month, i) == 6 and i != lastDay(year, month):\n",
    "            print()\n",
    "\n",
    "\n",
    "    print('\\n' + '=' * 28) # 달력 하단"
   ]
  },
  {
   "cell_type": "code",
   "execution_count": null,
   "id": "bc17753a",
   "metadata": {},
   "outputs": [],
   "source": []
  }
 ],
 "metadata": {
  "kernelspec": {
   "display_name": "Python 3 (ipykernel)",
   "language": "python",
   "name": "python3"
  },
  "language_info": {
   "codemirror_mode": {
    "name": "ipython",
    "version": 3
   },
   "file_extension": ".py",
   "mimetype": "text/x-python",
   "name": "python",
   "nbconvert_exporter": "python",
   "pygments_lexer": "ipython3",
   "version": "3.11.9"
  }
 },
 "nbformat": 4,
 "nbformat_minor": 5
}
