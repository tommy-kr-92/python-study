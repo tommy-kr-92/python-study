{
 "cells": [
  {
   "cell_type": "code",
   "id": "initial_id",
   "metadata": {
    "collapsed": true,
    "ExecuteTime": {
     "end_time": "2024-09-20T20:56:35.526869Z",
     "start_time": "2024-09-20T20:56:34.643700Z"
    }
   },
   "source": "import pandas as pd",
   "outputs": [],
   "execution_count": 1
  },
  {
   "metadata": {
    "ExecuteTime": {
     "end_time": "2024-09-20T20:58:22.337354Z",
     "start_time": "2024-09-20T20:58:22.334179Z"
    }
   },
   "cell_type": "code",
   "source": [
    "data1 = [\n",
    "    [67, 93, 91, 88],\n",
    "    [75, 69, 96, 69],\n",
    "    [75, 81, 74, 82],\n",
    "    [96, 65, 84, 66],\n",
    "    [79, 70, 76, 75],\n",
    "    [62, 99, 87, 76],\n",
    "]"
   ],
   "id": "2198d58be6cf6607",
   "outputs": [],
   "execution_count": 2
  },
  {
   "metadata": {
    "ExecuteTime": {
     "end_time": "2024-09-20T20:58:57.821982Z",
     "start_time": "2024-09-20T20:58:57.818080Z"
    }
   },
   "cell_type": "code",
   "source": [
    "idx1 = ['송중기', '김나현', '권보아', '박효신', '김범수', '이효리']\n",
    "col1 = ['국어', '영어', '수학', '과학']"
   ],
   "id": "61c09a59e99b0093",
   "outputs": [],
   "execution_count": 3
  },
  {
   "metadata": {
    "ExecuteTime": {
     "end_time": "2024-09-20T20:59:29.303959Z",
     "start_time": "2024-09-20T20:59:29.296157Z"
    }
   },
   "cell_type": "code",
   "source": [
    "df1 = pd.DataFrame(data1, index=idx1, columns=col1)\n",
    "df1"
   ],
   "id": "820955bd88250971",
   "outputs": [
    {
     "data": {
      "text/plain": [
       "     국어  영어  수학  과학\n",
       "송중기  67  93  91  88\n",
       "김나현  75  69  96  69\n",
       "권보아  75  81  74  82\n",
       "박효신  96  65  84  66\n",
       "김범수  79  70  76  75\n",
       "이효리  62  99  87  76"
      ],
      "text/html": [
       "<div>\n",
       "<style scoped>\n",
       "    .dataframe tbody tr th:only-of-type {\n",
       "        vertical-align: middle;\n",
       "    }\n",
       "\n",
       "    .dataframe tbody tr th {\n",
       "        vertical-align: top;\n",
       "    }\n",
       "\n",
       "    .dataframe thead th {\n",
       "        text-align: right;\n",
       "    }\n",
       "</style>\n",
       "<table border=\"1\" class=\"dataframe\">\n",
       "  <thead>\n",
       "    <tr style=\"text-align: right;\">\n",
       "      <th></th>\n",
       "      <th>국어</th>\n",
       "      <th>영어</th>\n",
       "      <th>수학</th>\n",
       "      <th>과학</th>\n",
       "    </tr>\n",
       "  </thead>\n",
       "  <tbody>\n",
       "    <tr>\n",
       "      <th>송중기</th>\n",
       "      <td>67</td>\n",
       "      <td>93</td>\n",
       "      <td>91</td>\n",
       "      <td>88</td>\n",
       "    </tr>\n",
       "    <tr>\n",
       "      <th>김나현</th>\n",
       "      <td>75</td>\n",
       "      <td>69</td>\n",
       "      <td>96</td>\n",
       "      <td>69</td>\n",
       "    </tr>\n",
       "    <tr>\n",
       "      <th>권보아</th>\n",
       "      <td>75</td>\n",
       "      <td>81</td>\n",
       "      <td>74</td>\n",
       "      <td>82</td>\n",
       "    </tr>\n",
       "    <tr>\n",
       "      <th>박효신</th>\n",
       "      <td>96</td>\n",
       "      <td>65</td>\n",
       "      <td>84</td>\n",
       "      <td>66</td>\n",
       "    </tr>\n",
       "    <tr>\n",
       "      <th>김범수</th>\n",
       "      <td>79</td>\n",
       "      <td>70</td>\n",
       "      <td>76</td>\n",
       "      <td>75</td>\n",
       "    </tr>\n",
       "    <tr>\n",
       "      <th>이효리</th>\n",
       "      <td>62</td>\n",
       "      <td>99</td>\n",
       "      <td>87</td>\n",
       "      <td>76</td>\n",
       "    </tr>\n",
       "  </tbody>\n",
       "</table>\n",
       "</div>"
      ]
     },
     "execution_count": 6,
     "metadata": {},
     "output_type": "execute_result"
    }
   ],
   "execution_count": 6
  },
  {
   "metadata": {
    "ExecuteTime": {
     "end_time": "2024-09-20T20:59:36.989648Z",
     "start_time": "2024-09-20T20:59:36.984948Z"
    }
   },
   "cell_type": "code",
   "source": "df1.values",
   "id": "19f7ce45f58f8920",
   "outputs": [
    {
     "data": {
      "text/plain": [
       "array([[67, 93, 91, 88],\n",
       "       [75, 69, 96, 69],\n",
       "       [75, 81, 74, 82],\n",
       "       [96, 65, 84, 66],\n",
       "       [79, 70, 76, 75],\n",
       "       [62, 99, 87, 76]])"
      ]
     },
     "execution_count": 7,
     "metadata": {},
     "output_type": "execute_result"
    }
   ],
   "execution_count": 7
  },
  {
   "metadata": {
    "ExecuteTime": {
     "end_time": "2024-09-20T20:59:44.313836Z",
     "start_time": "2024-09-20T20:59:44.309894Z"
    }
   },
   "cell_type": "code",
   "source": "df1.index",
   "id": "b528ab584dcac23b",
   "outputs": [
    {
     "data": {
      "text/plain": [
       "Index(['송중기', '김나현', '권보아', '박효신', '김범수', '이효리'], dtype='object')"
      ]
     },
     "execution_count": 8,
     "metadata": {},
     "output_type": "execute_result"
    }
   ],
   "execution_count": 8
  },
  {
   "metadata": {
    "ExecuteTime": {
     "end_time": "2024-09-20T20:59:50.728314Z",
     "start_time": "2024-09-20T20:59:50.723056Z"
    }
   },
   "cell_type": "code",
   "source": "df1.columns",
   "id": "4eac5a41e8eefe5e",
   "outputs": [
    {
     "data": {
      "text/plain": [
       "Index(['국어', '영어', '수학', '과학'], dtype='object')"
      ]
     },
     "execution_count": 9,
     "metadata": {},
     "output_type": "execute_result"
    }
   ],
   "execution_count": 9
  },
  {
   "metadata": {
    "ExecuteTime": {
     "end_time": "2024-09-20T20:59:54.826022Z",
     "start_time": "2024-09-20T20:59:54.817878Z"
    }
   },
   "cell_type": "code",
   "source": "df1 > 80",
   "id": "924fd4e9c77372dd",
   "outputs": [
    {
     "data": {
      "text/plain": [
       "        국어     영어     수학     과학\n",
       "송중기  False   True   True   True\n",
       "김나현  False  False   True  False\n",
       "권보아  False   True  False   True\n",
       "박효신   True  False   True  False\n",
       "김범수  False  False  False  False\n",
       "이효리  False   True   True  False"
      ],
      "text/html": [
       "<div>\n",
       "<style scoped>\n",
       "    .dataframe tbody tr th:only-of-type {\n",
       "        vertical-align: middle;\n",
       "    }\n",
       "\n",
       "    .dataframe tbody tr th {\n",
       "        vertical-align: top;\n",
       "    }\n",
       "\n",
       "    .dataframe thead th {\n",
       "        text-align: right;\n",
       "    }\n",
       "</style>\n",
       "<table border=\"1\" class=\"dataframe\">\n",
       "  <thead>\n",
       "    <tr style=\"text-align: right;\">\n",
       "      <th></th>\n",
       "      <th>국어</th>\n",
       "      <th>영어</th>\n",
       "      <th>수학</th>\n",
       "      <th>과학</th>\n",
       "    </tr>\n",
       "  </thead>\n",
       "  <tbody>\n",
       "    <tr>\n",
       "      <th>송중기</th>\n",
       "      <td>False</td>\n",
       "      <td>True</td>\n",
       "      <td>True</td>\n",
       "      <td>True</td>\n",
       "    </tr>\n",
       "    <tr>\n",
       "      <th>김나현</th>\n",
       "      <td>False</td>\n",
       "      <td>False</td>\n",
       "      <td>True</td>\n",
       "      <td>False</td>\n",
       "    </tr>\n",
       "    <tr>\n",
       "      <th>권보아</th>\n",
       "      <td>False</td>\n",
       "      <td>True</td>\n",
       "      <td>False</td>\n",
       "      <td>True</td>\n",
       "    </tr>\n",
       "    <tr>\n",
       "      <th>박효신</th>\n",
       "      <td>True</td>\n",
       "      <td>False</td>\n",
       "      <td>True</td>\n",
       "      <td>False</td>\n",
       "    </tr>\n",
       "    <tr>\n",
       "      <th>김범수</th>\n",
       "      <td>False</td>\n",
       "      <td>False</td>\n",
       "      <td>False</td>\n",
       "      <td>False</td>\n",
       "    </tr>\n",
       "    <tr>\n",
       "      <th>이효리</th>\n",
       "      <td>False</td>\n",
       "      <td>True</td>\n",
       "      <td>True</td>\n",
       "      <td>False</td>\n",
       "    </tr>\n",
       "  </tbody>\n",
       "</table>\n",
       "</div>"
      ]
     },
     "execution_count": 10,
     "metadata": {},
     "output_type": "execute_result"
    }
   ],
   "execution_count": 10
  },
  {
   "metadata": {
    "ExecuteTime": {
     "end_time": "2024-09-20T21:00:37.850578Z",
     "start_time": "2024-09-20T21:00:37.844424Z"
    }
   },
   "cell_type": "code",
   "source": [
    "data_k = [67, 75, 75, 96, 79, 62]\n",
    "s1 = pd.Series(data_k, index=idx1)\n",
    "s1"
   ],
   "id": "2931e79df3fe88b",
   "outputs": [
    {
     "data": {
      "text/plain": [
       "송중기    67\n",
       "김나현    75\n",
       "권보아    75\n",
       "박효신    96\n",
       "김범수    79\n",
       "이효리    62\n",
       "dtype: int64"
      ]
     },
     "execution_count": 11,
     "metadata": {},
     "output_type": "execute_result"
    }
   ],
   "execution_count": 11
  },
  {
   "metadata": {
    "ExecuteTime": {
     "end_time": "2024-09-20T21:00:47.240493Z",
     "start_time": "2024-09-20T21:00:47.233175Z"
    }
   },
   "cell_type": "code",
   "source": "s1 > 80",
   "id": "27382e7f808fabae",
   "outputs": [
    {
     "data": {
      "text/plain": [
       "송중기    False\n",
       "김나현    False\n",
       "권보아    False\n",
       "박효신     True\n",
       "김범수    False\n",
       "이효리    False\n",
       "dtype: bool"
      ]
     },
     "execution_count": 12,
     "metadata": {},
     "output_type": "execute_result"
    }
   ],
   "execution_count": 12
  },
  {
   "metadata": {
    "ExecuteTime": {
     "end_time": "2024-09-20T21:02:20.088588Z",
     "start_time": "2024-09-20T21:02:20.080582Z"
    }
   },
   "cell_type": "code",
   "source": [
    "data2 = [\n",
    "    [67,93,91],\n",
    "    [75,69,96],\n",
    "    [75,81,74],\n",
    "    [96,65,84],\n",
    "]\n",
    "df2 = pd.DataFrame(data2, list('ABCD'), ['국어', '영어', '수학'])\n",
    "df2 > 80"
   ],
   "id": "ca8d8888730b97d6",
   "outputs": [
    {
     "data": {
      "text/plain": [
       "      국어     영어     수학\n",
       "A  False   True   True\n",
       "B  False  False   True\n",
       "C  False   True  False\n",
       "D   True  False   True"
      ],
      "text/html": [
       "<div>\n",
       "<style scoped>\n",
       "    .dataframe tbody tr th:only-of-type {\n",
       "        vertical-align: middle;\n",
       "    }\n",
       "\n",
       "    .dataframe tbody tr th {\n",
       "        vertical-align: top;\n",
       "    }\n",
       "\n",
       "    .dataframe thead th {\n",
       "        text-align: right;\n",
       "    }\n",
       "</style>\n",
       "<table border=\"1\" class=\"dataframe\">\n",
       "  <thead>\n",
       "    <tr style=\"text-align: right;\">\n",
       "      <th></th>\n",
       "      <th>국어</th>\n",
       "      <th>영어</th>\n",
       "      <th>수학</th>\n",
       "    </tr>\n",
       "  </thead>\n",
       "  <tbody>\n",
       "    <tr>\n",
       "      <th>A</th>\n",
       "      <td>False</td>\n",
       "      <td>True</td>\n",
       "      <td>True</td>\n",
       "    </tr>\n",
       "    <tr>\n",
       "      <th>B</th>\n",
       "      <td>False</td>\n",
       "      <td>False</td>\n",
       "      <td>True</td>\n",
       "    </tr>\n",
       "    <tr>\n",
       "      <th>C</th>\n",
       "      <td>False</td>\n",
       "      <td>True</td>\n",
       "      <td>False</td>\n",
       "    </tr>\n",
       "    <tr>\n",
       "      <th>D</th>\n",
       "      <td>True</td>\n",
       "      <td>False</td>\n",
       "      <td>True</td>\n",
       "    </tr>\n",
       "  </tbody>\n",
       "</table>\n",
       "</div>"
      ]
     },
     "execution_count": 14,
     "metadata": {},
     "output_type": "execute_result"
    }
   ],
   "execution_count": 14
  },
  {
   "metadata": {},
   "cell_type": "code",
   "outputs": [],
   "execution_count": null,
   "source": "",
   "id": "ade818f1ad540421"
  }
 ],
 "metadata": {
  "kernelspec": {
   "display_name": "Python 3",
   "language": "python",
   "name": "python3"
  },
  "language_info": {
   "codemirror_mode": {
    "name": "ipython",
    "version": 2
   },
   "file_extension": ".py",
   "mimetype": "text/x-python",
   "name": "python",
   "nbconvert_exporter": "python",
   "pygments_lexer": "ipython2",
   "version": "2.7.6"
  }
 },
 "nbformat": 4,
 "nbformat_minor": 5
}
